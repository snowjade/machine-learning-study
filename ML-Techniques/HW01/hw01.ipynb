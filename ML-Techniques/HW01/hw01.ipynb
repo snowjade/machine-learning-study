{
 "cells": [
  {
   "cell_type": "code",
   "execution_count": null,
   "metadata": {
    "collapsed": true
   },
   "outputs": [],
   "source": [
    "import numpy as np\n",
    "\n",
    "x = np.array([\n",
    "    [1, 0], [0, 1], [0, -1], [-1, 0], [0, 2], [0, -2], [-2, 0]\n",
    "])\n",
    "y = np.array([-1, -1, -1, 1, 1, 1, 1])\n"
   ]
  },
  {
   "cell_type": "code",
   "execution_count": null,
   "outputs": [],
   "source": [
    "from sklearn import svm\n",
    "\n",
    "\n",
    "def my_kernel(x1, x2):\n",
    "    k = np.zeros((len(x1), len(x2)), dtype=np.float)\n",
    "    for i in range(len(x1)):\n",
    "        for j in range(len(x2)):\n",
    "            x = x1[i]\n",
    "            y = x2[j]\n",
    "            k[i][j] = (1 + x.T.dot(y)) ** 2\n",
    "    print(k.shape)\n",
    "    return k\n",
    "\n",
    "\n",
    "# svc = svm.SVC(kernel=my_kernel )\n",
    "svc = svm.SVC(C=1e100, kernel='poly', degree=2, gamma=1, coef0=1)\n",
    "svc.fit(x, y)"
   ],
   "metadata": {
    "collapsed": false,
    "pycharm": {
     "name": "#%%\n"
    }
   }
  },
  {
   "cell_type": "code",
   "execution_count": null,
   "outputs": [],
   "source": [
    "a = np.sqrt(2)\n",
    "\n",
    "\n",
    "def z(sv):\n",
    "    return np.array([1, a * sv[0], a * sv[1], sv[0] ** 2, sv[1] ** 2, a * sv[0] * sv[1]])\n",
    "\n",
    "\n",
    "def z2(sv):\n",
    "    return np.array([1, sv[0], sv[1], sv[0] ** 2, sv[1] ** 2, sv[0] * sv[1]])"
   ],
   "metadata": {
    "collapsed": false,
    "pycharm": {
     "name": "#%%\n"
    }
   }
  },
  {
   "cell_type": "code",
   "execution_count": null,
   "outputs": [],
   "source": [
    "print(np.sum(np.abs(svc.dual_coef_)))\n",
    "print(svc.dual_coef_)\n",
    "print(svc.support_)\n",
    "print(\"support_vectors:\", svc.support_vectors_)\n",
    "w = np.zeros([6])\n",
    "alpha = svc.dual_coef_.squeeze()\n",
    "aIndex = 0\n",
    "for index in svc.support_:\n",
    "    print(x[index])\n",
    "    print(z(x[index]))\n",
    "    w += alpha[aIndex] * z(x[index])\n",
    "    aIndex += 1\n",
    "print(\"w:\", w)\n",
    "b = y[svc.support_[0]] - np.sum(w * z(x[svc.support_[0]]))\n",
    "# b = svc.intercept_\n",
    "print(\"b:\", b)\n",
    "w[0] += b\n",
    "print(\"result:\", (9 * w) * np.array([1, a, a, 1, 1, a]))\n",
    "# print(\"result:\", 9 * w)\n",
    "\n",
    "\n",
    "\n",
    "\n"
   ],
   "metadata": {
    "collapsed": false,
    "pycharm": {
     "name": "#%% question 4\n"
    }
   }
  },
  {
   "cell_type": "code",
   "execution_count": null,
   "outputs": [],
   "source": [],
   "metadata": {
    "collapsed": false,
    "pycharm": {
     "name": "#%%\n"
    }
   }
  },
  {
   "cell_type": "code",
   "execution_count": null,
   "outputs": [],
   "source": [
    "x_0 = x[:, 0]\n",
    "x_1 = x[:, 1]\n",
    "x_z = np.array([x_0, x_1, x_0 ** 2, x_1 ** 2, x_0 * x_1]).T\n",
    "x_z = np.insert(x_z, 0, values=1, axis=1)\n",
    "print(x_z)\n",
    "svc = svm.SVC(kernel='linear')\n",
    "svc.fit(x_z, y)\n",
    "print(svc.coef_ * 9)\n",
    "\n",
    "\n",
    "\n",
    "\n",
    "\n"
   ],
   "metadata": {
    "collapsed": false,
    "pycharm": {
     "name": "#%%\n"
    }
   }
  },
  {
   "cell_type": "code",
   "execution_count": null,
   "outputs": [],
   "source": [
    "from cvxopt import solvers, matrix\n",
    "import numpy as np\n",
    "\n",
    "\n",
    "def kernel(x1, x2):\n",
    "    return (1 + np.dot(x1, x2)) ** 2\n",
    "\n",
    "\n",
    "xs = [[1, 0], [0, 1], [0, -1], [-1, 0], [0, 2], [0, -2], [-2, 0]]\n",
    "ys = np.array([-1, -1, -1, 1, 1, 1, 1])\n",
    "Q = np.zeros((7, 7))\n",
    "for i in range(7):\n",
    "    for j in range(7):\n",
    "        Q[i][j] = ys[i] * ys[j] * kernel(np.array(xs[i]), np.array(xs[j]))\n",
    "\n",
    "p = -np.ones(7)\n",
    "A = np.zeros((9, 7))\n",
    "A[0] = ys\n",
    "A[1] = -ys\n",
    "for i in range(2, 9):\n",
    "    A[i][i - 2] = -1\n",
    "c = np.zeros(9)\n",
    "\n",
    "P = matrix(Q)\n",
    "q = matrix(p)\n",
    "G = matrix(A)\n",
    "h = matrix(c)\n",
    "\n",
    "alphas = solvers.qp(P, q, G, h)\n",
    "alphas = alphas['x']\n",
    "print('max alpha:', np.max(alphas))\n",
    "print('alpha sum:', np.sum(alphas))\n",
    "print('min alpha:', np.min(alphas))\n",
    "print('alphas:', alphas)\n",
    "\n",
    "\n",
    "def kernelParameters(x):\n",
    "    return np.array([x[0] * x[0], x[1] * x[1], 2 * x[0] * x[1], 2 * x[0], 2 * x[1], 1])\n",
    "\n",
    "\n",
    "w = np.zeros(6)\n",
    "for i in range(7):\n",
    "    w += alphas[i] * ys[i] * kernelParameters(xs[i])\n",
    "\n",
    "b = ys[1]\n",
    "for i in range(7):\n",
    "    b -= alphas[i] * ys[i] * kernel(xs[i], xs[1])\n",
    "\n",
    "print('x1*x1:', w[0], 'x2*x2:', w[1], 'x1*x2:', w[2], 'x1:', w[3], 'x2:', w[4], '1:', w[5])\n",
    "print('b:', b)\n",
    "\n"
   ],
   "metadata": {
    "collapsed": false,
    "pycharm": {
     "name": "#%%  别人的答案\n"
    }
   }
  },
  {
   "cell_type": "code",
   "execution_count": 14,
   "outputs": [
    {
     "name": "stdout",
     "output_type": "stream",
     "text": [
      "(7291, 3) (2007, 3)\n"
     ]
    }
   ],
   "source": [
    "import os\n",
    "import wget\n",
    "import numpy as np\n",
    "\n",
    "if not os.path.exists(\"features.train\"):\n",
    "    wget.download(\"http://www.amlbook.com/data/zip/features.train\")\n",
    "    wget.download(\"http://www.amlbook.com/data/zip/features.test\")\n",
    "train_data = np.loadtxt(\"features.train\")\n",
    "test_data = np.loadtxt(\"features.test\")\n",
    "print(train_data.shape, test_data.shape)"
   ],
   "metadata": {
    "collapsed": false,
    "pycharm": {
     "name": "#%% question 15\n"
    }
   }
  },
  {
   "cell_type": "code",
   "execution_count": 10,
   "outputs": [
    {
     "ename": "NameError",
     "evalue": "name 'train_data' is not defined",
     "output_type": "error",
     "traceback": [
      "\u001B[0;31m---------------------------------------------------------------------------\u001B[0m",
      "\u001B[0;31mNameError\u001B[0m                                 Traceback (most recent call last)",
      "\u001B[0;32m<ipython-input-10-35b6211218f9>\u001B[0m in \u001B[0;36m<module>\u001B[0;34m\u001B[0m\n\u001B[0;32m----> 1\u001B[0;31m \u001B[0mx\u001B[0m \u001B[0;34m=\u001B[0m \u001B[0mtrain_data\u001B[0m\u001B[0;34m[\u001B[0m\u001B[0;34m:\u001B[0m\u001B[0;34m,\u001B[0m \u001B[0;36m1\u001B[0m\u001B[0;34m:\u001B[0m\u001B[0;34m]\u001B[0m\u001B[0;34m\u001B[0m\u001B[0;34m\u001B[0m\u001B[0m\n\u001B[0m\u001B[1;32m      2\u001B[0m \u001B[0mtemp\u001B[0m \u001B[0;34m=\u001B[0m \u001B[0mtrain_data\u001B[0m\u001B[0;34m[\u001B[0m\u001B[0;34m:\u001B[0m\u001B[0;34m,\u001B[0m \u001B[0;36m0\u001B[0m\u001B[0;34m]\u001B[0m\u001B[0;34m\u001B[0m\u001B[0;34m\u001B[0m\u001B[0m\n\u001B[1;32m      3\u001B[0m \u001B[0my\u001B[0m \u001B[0;34m=\u001B[0m \u001B[0mtemp\u001B[0m\u001B[0;34m.\u001B[0m\u001B[0mcopy\u001B[0m\u001B[0;34m(\u001B[0m\u001B[0;34m)\u001B[0m\u001B[0;34m\u001B[0m\u001B[0;34m\u001B[0m\u001B[0m\n\u001B[1;32m      4\u001B[0m \u001B[0my\u001B[0m\u001B[0;34m[\u001B[0m\u001B[0mtemp\u001B[0m \u001B[0;34m==\u001B[0m \u001B[0;36m0\u001B[0m\u001B[0;34m]\u001B[0m \u001B[0;34m=\u001B[0m \u001B[0;36m1\u001B[0m\u001B[0;34m\u001B[0m\u001B[0;34m\u001B[0m\u001B[0m\n\u001B[1;32m      5\u001B[0m \u001B[0my\u001B[0m\u001B[0;34m[\u001B[0m\u001B[0mtemp\u001B[0m \u001B[0;34m!=\u001B[0m \u001B[0;36m0\u001B[0m\u001B[0;34m]\u001B[0m \u001B[0;34m=\u001B[0m \u001B[0;34m-\u001B[0m\u001B[0;36m1\u001B[0m\u001B[0;34m\u001B[0m\u001B[0;34m\u001B[0m\u001B[0m\n",
      "\u001B[0;31mNameError\u001B[0m: name 'train_data' is not defined"
     ]
    }
   ],
   "source": [
    "x = train_data[:, 1:]\n",
    "temp = train_data[:, 0]\n",
    "y = temp.copy()\n",
    "y[temp == 0] = 1\n",
    "y[temp != 0] = -1\n",
    "\n",
    "x_test = test_data[:, 1:-1]\n",
    "temp = test_data[:, 0]\n",
    "y_test = temp.copy()\n",
    "y_test[temp == 0] = 1\n",
    "y_test[temp != 0] = -1\n"
   ],
   "metadata": {
    "collapsed": false,
    "pycharm": {
     "name": "#%%\n"
    }
   }
  },
  {
   "cell_type": "code",
   "execution_count": 11,
   "outputs": [
    {
     "ename": "NameError",
     "evalue": "name 'svm' is not defined",
     "output_type": "error",
     "traceback": [
      "\u001B[0;31m---------------------------------------------------------------------------\u001B[0m",
      "\u001B[0;31mNameError\u001B[0m                                 Traceback (most recent call last)",
      "\u001B[0;32m<ipython-input-11-97df9e79f7e6>\u001B[0m in \u001B[0;36m<module>\u001B[0;34m\u001B[0m\n\u001B[0;32m----> 1\u001B[0;31m \u001B[0msvc\u001B[0m \u001B[0;34m=\u001B[0m \u001B[0msvm\u001B[0m\u001B[0;34m.\u001B[0m\u001B[0mSVC\u001B[0m\u001B[0;34m(\u001B[0m\u001B[0mC\u001B[0m\u001B[0;34m=\u001B[0m\u001B[0;36m0.01\u001B[0m\u001B[0;34m,\u001B[0m \u001B[0mkernel\u001B[0m\u001B[0;34m=\u001B[0m\u001B[0;34m'linear'\u001B[0m\u001B[0;34m)\u001B[0m\u001B[0;34m\u001B[0m\u001B[0;34m\u001B[0m\u001B[0m\n\u001B[0m\u001B[1;32m      2\u001B[0m \u001B[0msvc\u001B[0m\u001B[0;34m.\u001B[0m\u001B[0mfit\u001B[0m\u001B[0;34m(\u001B[0m\u001B[0mx\u001B[0m\u001B[0;34m,\u001B[0m \u001B[0my\u001B[0m\u001B[0;34m)\u001B[0m\u001B[0;34m\u001B[0m\u001B[0;34m\u001B[0m\u001B[0m\n\u001B[1;32m      3\u001B[0m \u001B[0mw\u001B[0m \u001B[0;34m=\u001B[0m \u001B[0msvc\u001B[0m\u001B[0;34m.\u001B[0m\u001B[0mcoef_\u001B[0m\u001B[0;34m\u001B[0m\u001B[0;34m\u001B[0m\u001B[0m\n\u001B[1;32m      4\u001B[0m \u001B[0mb\u001B[0m \u001B[0;34m=\u001B[0m \u001B[0msvc\u001B[0m\u001B[0;34m.\u001B[0m\u001B[0mintercept_\u001B[0m\u001B[0;34m\u001B[0m\u001B[0;34m\u001B[0m\u001B[0m\n\u001B[1;32m      5\u001B[0m \u001B[0mprint\u001B[0m\u001B[0;34m(\u001B[0m\u001B[0;34m'w'\u001B[0m\u001B[0;34m,\u001B[0m \u001B[0mw\u001B[0m\u001B[0;34m)\u001B[0m\u001B[0;34m\u001B[0m\u001B[0;34m\u001B[0m\u001B[0m\n",
      "\u001B[0;31mNameError\u001B[0m: name 'svm' is not defined"
     ]
    }
   ],
   "source": [
    "svc = svm.SVC(C=0.01, kernel='linear')\n",
    "svc.fit(x, y)\n",
    "w = svc.coef_\n",
    "b = svc.intercept_\n",
    "print('w', w)\n",
    "print('b', b)\n",
    "print(np.linalg.norm(np.insert(w, 0, values=b, axis=1)))\n",
    "print(np.linalg.norm(w))"
   ],
   "metadata": {
    "collapsed": false,
    "pycharm": {
     "name": "#%% question 15\n"
    }
   }
  },
  {
   "cell_type": "code",
   "execution_count": 16,
   "outputs": [],
   "source": [
    "def experiment(kind, c, gamma=1, kernel='poly', train_data=train_data, test_data=test_data):\n",
    "    x = train_data[:, 1:]\n",
    "    temp = train_data[:, 0]\n",
    "    y = temp.copy()\n",
    "    y[temp == kind] = 1\n",
    "    y[temp != kind] = -1\n",
    "    x_test = test_data[:, 1:]\n",
    "    temp = test_data[:, 0]\n",
    "    y_test = temp.copy()\n",
    "    y_test[temp == kind] = 1\n",
    "    y_test[temp != kind] = -1\n",
    "\n",
    "    svc = svm.SVC(C=c, kernel=kernel, gamma=gamma, degree=2, coef0=1)\n",
    "    svc.fit(x, y)\n",
    "    y_predict = svc.predict(x)\n",
    "    error_in = np.sum(y != y_predict) / y.size\n",
    "    sum_alpha = np.sum(np.abs(svc.dual_coef_))\n",
    "    y_test_predict = svc.predict(x_test)\n",
    "    error_out = np.sum(y_test != y_test_predict) / y_test.size\n",
    "    # print(\"sv\", svc.n_support_, \"gamma\", gamma)\n",
    "    # print(\"kind\", kind, \"error_in\", error_in, \"sum_alpha\", sum_alpha, \"error_out\", error_out, \"C\", c)\n",
    "    return error_out\n"
   ],
   "metadata": {
    "collapsed": false,
    "pycharm": {
     "name": "#%%\n"
    }
   }
  },
  {
   "cell_type": "code",
   "execution_count": null,
   "outputs": [],
   "source": [
    "for kind in [0, 2, 4, 6, 8]:\n",
    "    experiment(kind, 0.01)"
   ],
   "metadata": {
    "collapsed": false,
    "pycharm": {
     "name": "#%% question 16\n"
    }
   }
  },
  {
   "cell_type": "code",
   "execution_count": null,
   "outputs": [],
   "source": [
    "for c in [0.001, 0.01, 0.1, 1, 10]:\n",
    "    experiment(0, c, kernel='rbf', gamma=100)\n"
   ],
   "metadata": {
    "collapsed": false,
    "pycharm": {
     "name": "#%%\n"
    }
   }
  },
  {
   "cell_type": "code",
   "execution_count": null,
   "outputs": [],
   "source": [
    "for exp in range(0, 5):\n",
    "    gamma = 10 ** exp\n",
    "    experiment(0, 0.1, gamma, 'rbf')\n"
   ],
   "metadata": {
    "collapsed": false,
    "pycharm": {
     "name": "#%% question 19\n"
    }
   }
  },
  {
   "cell_type": "code",
   "execution_count": 19,
   "outputs": [
    {
     "name": "stderr",
     "output_type": "stream",
     "text": [
      "100%|██████████| 100/100 [01:00<00:00,  1.66it/s]\n",
      "  0%|          | 0/100 [00:00<?, ?it/s]"
     ]
    },
    {
     "name": "stdout",
     "output_type": "stream",
     "text": [
      "gamma 1 e_val 0.10608011444921317\n"
     ]
    },
    {
     "name": "stderr",
     "output_type": "stream",
     "text": [
      "100%|██████████| 100/100 [00:59<00:00,  1.68it/s]\n",
      "  0%|          | 0/100 [00:00<?, ?it/s]"
     ]
    },
    {
     "name": "stdout",
     "output_type": "stream",
     "text": [
      "gamma 10 e_val 0.09831346367827054\n"
     ]
    },
    {
     "name": "stderr",
     "output_type": "stream",
     "text": [
      "100%|██████████| 100/100 [01:40<00:00,  1.00s/it]\n",
      "  0%|          | 0/100 [00:00<?, ?it/s]"
     ]
    },
    {
     "name": "stdout",
     "output_type": "stream",
     "text": [
      "gamma 100 e_val 0.09609124145604828\n"
     ]
    },
    {
     "name": "stderr",
     "output_type": "stream",
     "text": [
      "100%|██████████| 100/100 [03:09<00:00,  1.89s/it]\n",
      "  0%|          | 0/100 [00:00<?, ?it/s]"
     ]
    },
    {
     "name": "stdout",
     "output_type": "stream",
     "text": [
      "gamma 1000 e_val 0.16390875854395162\n"
     ]
    },
    {
     "name": "stderr",
     "output_type": "stream",
     "text": [
      "  3%|▎         | 3/100 [00:06<03:26,  2.13s/it]\n"
     ]
    },
    {
     "ename": "KeyboardInterrupt",
     "evalue": "",
     "output_type": "error",
     "traceback": [
      "\u001B[0;31m---------------------------------------------------------------------------\u001B[0m",
      "\u001B[0;31mKeyboardInterrupt\u001B[0m                         Traceback (most recent call last)",
      "\u001B[0;32m<ipython-input-19-747bd3956c6e>\u001B[0m in \u001B[0;36m<module>\u001B[0;34m\u001B[0m\n\u001B[1;32m      8\u001B[0m         \u001B[0mtrain_data_temp\u001B[0m\u001B[0;34m,\u001B[0m \u001B[0mval_data_temp\u001B[0m \u001B[0;34m=\u001B[0m \u001B[0mtrain_test_split\u001B[0m\u001B[0;34m(\u001B[0m\u001B[0mtrain_data\u001B[0m\u001B[0;34m,\u001B[0m \u001B[0mtest_size\u001B[0m\u001B[0;34m=\u001B[0m \u001B[0;36m1000\u001B[0m\u001B[0;34m/\u001B[0m\u001B[0mtrain_data\u001B[0m\u001B[0;34m.\u001B[0m\u001B[0mshape\u001B[0m\u001B[0;34m[\u001B[0m\u001B[0;36m0\u001B[0m\u001B[0;34m]\u001B[0m\u001B[0;34m)\u001B[0m\u001B[0;34m\u001B[0m\u001B[0;34m\u001B[0m\u001B[0m\n\u001B[1;32m      9\u001B[0m         e_val = experiment(kind=0, gamma=gamma, c=0.1, kernel='rbf', train_data=train_data_temp,\n\u001B[0;32m---> 10\u001B[0;31m                            test_data=train_data_temp)\n\u001B[0m\u001B[1;32m     11\u001B[0m         \u001B[0me_val_sum\u001B[0m \u001B[0;34m+=\u001B[0m \u001B[0me_val\u001B[0m\u001B[0;34m\u001B[0m\u001B[0;34m\u001B[0m\u001B[0m\n\u001B[1;32m     12\u001B[0m     \u001B[0mprint\u001B[0m\u001B[0;34m(\u001B[0m\u001B[0;34m\"gamma\"\u001B[0m\u001B[0;34m,\u001B[0m \u001B[0mgamma\u001B[0m\u001B[0;34m,\u001B[0m \u001B[0;34m\"e_val\"\u001B[0m\u001B[0;34m,\u001B[0m \u001B[0me_val_sum\u001B[0m \u001B[0;34m/\u001B[0m \u001B[0;36m100\u001B[0m\u001B[0;34m)\u001B[0m\u001B[0;34m\u001B[0m\u001B[0;34m\u001B[0m\u001B[0m\n",
      "\u001B[0;32m<ipython-input-16-70828796198c>\u001B[0m in \u001B[0;36mexperiment\u001B[0;34m(kind, c, gamma, kernel, train_data, test_data)\u001B[0m\n\u001B[1;32m     12\u001B[0m \u001B[0;34m\u001B[0m\u001B[0m\n\u001B[1;32m     13\u001B[0m     \u001B[0msvc\u001B[0m \u001B[0;34m=\u001B[0m \u001B[0msvm\u001B[0m\u001B[0;34m.\u001B[0m\u001B[0mSVC\u001B[0m\u001B[0;34m(\u001B[0m\u001B[0mC\u001B[0m\u001B[0;34m=\u001B[0m\u001B[0mc\u001B[0m\u001B[0;34m,\u001B[0m \u001B[0mkernel\u001B[0m\u001B[0;34m=\u001B[0m\u001B[0mkernel\u001B[0m\u001B[0;34m,\u001B[0m \u001B[0mgamma\u001B[0m\u001B[0;34m=\u001B[0m\u001B[0mgamma\u001B[0m\u001B[0;34m,\u001B[0m \u001B[0mdegree\u001B[0m\u001B[0;34m=\u001B[0m\u001B[0;36m2\u001B[0m\u001B[0;34m,\u001B[0m \u001B[0mcoef0\u001B[0m\u001B[0;34m=\u001B[0m\u001B[0;36m1\u001B[0m\u001B[0;34m)\u001B[0m\u001B[0;34m\u001B[0m\u001B[0;34m\u001B[0m\u001B[0m\n\u001B[0;32m---> 14\u001B[0;31m     \u001B[0msvc\u001B[0m\u001B[0;34m.\u001B[0m\u001B[0mfit\u001B[0m\u001B[0;34m(\u001B[0m\u001B[0mx\u001B[0m\u001B[0;34m,\u001B[0m \u001B[0my\u001B[0m\u001B[0;34m)\u001B[0m\u001B[0;34m\u001B[0m\u001B[0;34m\u001B[0m\u001B[0m\n\u001B[0m\u001B[1;32m     15\u001B[0m     \u001B[0my_predict\u001B[0m \u001B[0;34m=\u001B[0m \u001B[0msvc\u001B[0m\u001B[0;34m.\u001B[0m\u001B[0mpredict\u001B[0m\u001B[0;34m(\u001B[0m\u001B[0mx\u001B[0m\u001B[0;34m)\u001B[0m\u001B[0;34m\u001B[0m\u001B[0;34m\u001B[0m\u001B[0m\n\u001B[1;32m     16\u001B[0m     \u001B[0merror_in\u001B[0m \u001B[0;34m=\u001B[0m \u001B[0mnp\u001B[0m\u001B[0;34m.\u001B[0m\u001B[0msum\u001B[0m\u001B[0;34m(\u001B[0m\u001B[0my\u001B[0m \u001B[0;34m!=\u001B[0m \u001B[0my_predict\u001B[0m\u001B[0;34m)\u001B[0m \u001B[0;34m/\u001B[0m \u001B[0my\u001B[0m\u001B[0;34m.\u001B[0m\u001B[0msize\u001B[0m\u001B[0;34m\u001B[0m\u001B[0;34m\u001B[0m\u001B[0m\n",
      "\u001B[0;32m/usr/local/lib/python3.7/site-packages/sklearn/svm/_base.py\u001B[0m in \u001B[0;36mfit\u001B[0;34m(self, X, y, sample_weight)\u001B[0m\n\u001B[1;32m    197\u001B[0m \u001B[0;34m\u001B[0m\u001B[0m\n\u001B[1;32m    198\u001B[0m         \u001B[0mseed\u001B[0m \u001B[0;34m=\u001B[0m \u001B[0mrnd\u001B[0m\u001B[0;34m.\u001B[0m\u001B[0mrandint\u001B[0m\u001B[0;34m(\u001B[0m\u001B[0mnp\u001B[0m\u001B[0;34m.\u001B[0m\u001B[0miinfo\u001B[0m\u001B[0;34m(\u001B[0m\u001B[0;34m'i'\u001B[0m\u001B[0;34m)\u001B[0m\u001B[0;34m.\u001B[0m\u001B[0mmax\u001B[0m\u001B[0;34m)\u001B[0m\u001B[0;34m\u001B[0m\u001B[0;34m\u001B[0m\u001B[0m\n\u001B[0;32m--> 199\u001B[0;31m         \u001B[0mfit\u001B[0m\u001B[0;34m(\u001B[0m\u001B[0mX\u001B[0m\u001B[0;34m,\u001B[0m \u001B[0my\u001B[0m\u001B[0;34m,\u001B[0m \u001B[0msample_weight\u001B[0m\u001B[0;34m,\u001B[0m \u001B[0msolver_type\u001B[0m\u001B[0;34m,\u001B[0m \u001B[0mkernel\u001B[0m\u001B[0;34m,\u001B[0m \u001B[0mrandom_seed\u001B[0m\u001B[0;34m=\u001B[0m\u001B[0mseed\u001B[0m\u001B[0;34m)\u001B[0m\u001B[0;34m\u001B[0m\u001B[0;34m\u001B[0m\u001B[0m\n\u001B[0m\u001B[1;32m    200\u001B[0m         \u001B[0;31m# see comment on the other call to np.iinfo in this file\u001B[0m\u001B[0;34m\u001B[0m\u001B[0;34m\u001B[0m\u001B[0;34m\u001B[0m\u001B[0m\n\u001B[1;32m    201\u001B[0m \u001B[0;34m\u001B[0m\u001B[0m\n",
      "\u001B[0;32m/usr/local/lib/python3.7/site-packages/sklearn/svm/_base.py\u001B[0m in \u001B[0;36m_dense_fit\u001B[0;34m(self, X, y, sample_weight, solver_type, kernel, random_seed)\u001B[0m\n\u001B[1;32m    256\u001B[0m                 \u001B[0mcache_size\u001B[0m\u001B[0;34m=\u001B[0m\u001B[0mself\u001B[0m\u001B[0;34m.\u001B[0m\u001B[0mcache_size\u001B[0m\u001B[0;34m,\u001B[0m \u001B[0mcoef0\u001B[0m\u001B[0;34m=\u001B[0m\u001B[0mself\u001B[0m\u001B[0;34m.\u001B[0m\u001B[0mcoef0\u001B[0m\u001B[0;34m,\u001B[0m\u001B[0;34m\u001B[0m\u001B[0;34m\u001B[0m\u001B[0m\n\u001B[1;32m    257\u001B[0m                 \u001B[0mgamma\u001B[0m\u001B[0;34m=\u001B[0m\u001B[0mself\u001B[0m\u001B[0;34m.\u001B[0m\u001B[0m_gamma\u001B[0m\u001B[0;34m,\u001B[0m \u001B[0mepsilon\u001B[0m\u001B[0;34m=\u001B[0m\u001B[0mself\u001B[0m\u001B[0;34m.\u001B[0m\u001B[0mepsilon\u001B[0m\u001B[0;34m,\u001B[0m\u001B[0;34m\u001B[0m\u001B[0;34m\u001B[0m\u001B[0m\n\u001B[0;32m--> 258\u001B[0;31m                 max_iter=self.max_iter, random_seed=random_seed)\n\u001B[0m\u001B[1;32m    259\u001B[0m \u001B[0;34m\u001B[0m\u001B[0m\n\u001B[1;32m    260\u001B[0m         \u001B[0mself\u001B[0m\u001B[0;34m.\u001B[0m\u001B[0m_warn_from_fit_status\u001B[0m\u001B[0;34m(\u001B[0m\u001B[0;34m)\u001B[0m\u001B[0;34m\u001B[0m\u001B[0;34m\u001B[0m\u001B[0m\n",
      "\u001B[0;31mKeyboardInterrupt\u001B[0m: "
     ]
    }
   ],
   "source": [
    "from sklearn.model_selection import train_test_split\n",
    "from tqdm import tqdm\n",
    "from sklearn import svm\n",
    "for exp in range(0, 5):\n",
    "    e_val_sum = 0;\n",
    "    gamma = 10 ** exp\n",
    "    for _ in tqdm(range(100)):\n",
    "        train_data_temp, val_data_temp = train_test_split(train_data, test_size= 1000/train_data.shape[0])\n",
    "        e_val = experiment(kind=0, gamma=gamma, c=0.1, kernel='rbf', train_data=train_data_temp,\n",
    "                           test_data=train_data_temp)\n",
    "        e_val_sum += e_val\n",
    "    print(\"gamma\", gamma, \"e_val\", e_val_sum / 100)\n",
    "\n"
   ],
   "metadata": {
    "collapsed": false,
    "pycharm": {
     "name": "#%% question 20\n"
    }
   }
  },
  {
   "cell_type": "code",
   "execution_count": 18,
   "outputs": [
    {
     "name": "stdout",
     "output_type": "stream",
     "text": [
      "*********************************\n",
      "p15:\n",
      "length of w: 0.5713171494256942\n",
      "0\n",
      "[[-0.01 -0.01 -0.01 ...  0.01  0.01  0.01]]\n",
      "2\n",
      "[[-0.01 -0.01 -0.01 ...  0.01  0.01  0.01]]\n",
      "4\n",
      "[[-0.01 -0.01 -0.01 ...  0.01  0.01  0.01]]\n",
      "6\n",
      "[[-0.01 -0.01 -0.01 ...  0.01  0.01  0.01]]\n",
      "8\n",
      "[[-0.01 -0.01 -0.01 ...  0.01  0.01  0.01]]\n",
      "*********************************\n",
      "p16:\n",
      "min error rate cate is: 8\n",
      "*********************************\n",
      "p17:\n",
      "max alpha sum is: 23.88\n",
      "C= 0.001\n",
      "number of SV: 2398\n",
      "E_out: 0.17887394120577982\n",
      "C= 0.01\n",
      "number of SV: 2520\n",
      "E_out: 0.17887394120577982\n",
      "C= 0.1\n",
      "number of SV: 2285\n",
      "E_out: 0.10513203786746383\n",
      "C= 1\n",
      "number of SV: 1783\n",
      "E_out: 0.10363726955655206\n",
      "C= 10\n",
      "number of SV: 1675\n",
      "E_out: 0.10463378176382665\n",
      "*********************************\n",
      "p19:\n",
      "min test error rate is: 0.09915296462381662 gamma: 10\n",
      "10\n",
      "20\n",
      "30\n",
      "40\n",
      "50\n",
      "60\n",
      "70\n",
      "80\n",
      "90\n",
      "100\n",
      "*********************************\n",
      "p20:\n",
      " most frequently gamma: (10, 73)\n"
     ]
    }
   ],
   "source": [
    "import sklearn.svm as svm\n",
    "import numpy as np\n",
    "import random\n",
    "\n",
    "\n",
    "\n",
    "def getData(file):\n",
    "    f = open(file,'r')\n",
    "    lines = f.readlines()\n",
    "    X = []\n",
    "    Y = []\n",
    "    for line in lines:\n",
    "        data = line.strip().split()\n",
    "        Y.append(int(float(data[0])))\n",
    "        X.append([float(data[1]),float(data[2])])\n",
    "    return np.array(X), np.array(Y)\n",
    "\n",
    "def alignY(Y, target):\n",
    "    newY = list(Y)\n",
    "    for i in range(len(Y)):\n",
    "        if Y[i] == target:\n",
    "            newY[i] = 1\n",
    "        else:\n",
    "            newY[i] = -1\n",
    "    return np.array(newY)\n",
    "\n",
    "def computeError(X, Y, model):\n",
    "    y_hat = np.array(model.predict(X))\n",
    "    accNum = np.sum(y_hat == Y)\n",
    "    return 1-accNum/len(Y)\n",
    "\n",
    "if __name__ == '__main__':\n",
    "    trainX, trainY = getData('features.train')\n",
    "    testX, testY = getData('features.test')\n",
    "    trainY15 = alignY(trainY,0)\n",
    "    clf = svm.SVC(C=0.01,kernel='linear')\n",
    "    clf.fit(trainX,trainY15)\n",
    "    w = clf.coef_\n",
    "    print('*********************************')\n",
    "    print('p15:\\nlength of w:',np.sqrt(np.sum(np.square(w))))\n",
    "\n",
    "    E_in = 1\n",
    "    cate = 0\n",
    "    sumAlpha = 0\n",
    "    for i in range(0,9,2):\n",
    "        print(i)\n",
    "        trainY16 = alignY(trainY,i)\n",
    "        clf = svm.SVC(C=0.01,kernel='poly',degree=2,gamma='auto')\n",
    "        clf.fit(trainX,trainY16)\n",
    "        print(clf.dual_coef_)\n",
    "        sumA = np.sum(np.fabs(clf.dual_coef_[0]))\n",
    "        err = computeError(trainX,trainY16,clf)\n",
    "        if err < E_in:\n",
    "            E_in = err\n",
    "            cate = i\n",
    "\n",
    "        if sumA > sumAlpha:\n",
    "            sumAlpha = sumA\n",
    "    print('*********************************')\n",
    "    print('p16:\\nmin error rate cate is:',cate)\n",
    "    print('*********************************')\n",
    "    print('p17:\\nmax alpha sum is:',sumAlpha)\n",
    "\n",
    "    Cs = [0.001,0.01,0.1,1,10]\n",
    "    trainY18 = alignY(trainY,0)\n",
    "    testY18 = alignY(testY,0)\n",
    "    for C in Cs:\n",
    "        clf = svm.SVC(C=C,kernel='rbf',gamma=100)\n",
    "        clf.fit(trainX,trainY18)\n",
    "\n",
    "        print('C=',C)\n",
    "\n",
    "        support = clf.support_\n",
    "        coef = clf.dual_coef_[0]\n",
    "        b = clf.intercept_[0]\n",
    "\n",
    "        print('number of SV:',len(support))\n",
    "\n",
    "        e_out = computeError(testX,testY18,clf)\n",
    "        print('E_out:',e_out)\n",
    "\n",
    "    gammas = [1,10,100,1000,10000]\n",
    "    errorRate = 1\n",
    "    g = 1\n",
    "    for gamma in gammas:\n",
    "        clf = svm.SVC(C=0.1,kernel='rbf',gamma=gamma)\n",
    "        clf.fit(trainX,trainY18)\n",
    "\n",
    "        e_out = computeError(testX,testY18,clf)\n",
    "        if e_out < errorRate:\n",
    "            errorRate = e_out\n",
    "            g = gamma\n",
    "\n",
    "    print('*********************************')\n",
    "    print('p19:\\nmin test error rate is:',errorRate, 'gamma:',g)\n",
    "\n",
    "    gammas = [1,10,100,1000,10000]\n",
    "    count = {1:0,10:0,100:0,1000:0,10000:0}\n",
    "    indexs = list(range(len(trainY18)))\n",
    "\n",
    "    for t in range(100):\n",
    "        if t%10 == 9:\n",
    "            print(t+1)\n",
    "        errorRate = 1\n",
    "        g = 1\n",
    "        random.shuffle(indexs)\n",
    "        for gamma in gammas:\n",
    "            clf = svm.SVC(C=0.1,kernel='rbf',gamma=gamma)\n",
    "            clf.fit(trainX[indexs[1000:]],trainY18[indexs[1000:]])\n",
    "\n",
    "            e_out = computeError(trainX[indexs[:1000]],trainY18[indexs[:1000]],clf)\n",
    "            if e_out < errorRate:\n",
    "                errorRate = e_out\n",
    "                g = gamma\n",
    "        count[g] += 1\n",
    "\n",
    "    print('*********************************')\n",
    "    print('p20:\\n most frequently gamma:',max(count.items(),key = lambda x:x[1]))\n",
    "\n"
   ],
   "metadata": {
    "collapsed": false,
    "pycharm": {
     "name": "#%%\n"
    }
   }
  }
 ],
 "metadata": {
  "kernelspec": {
   "display_name": "Python 3",
   "language": "python",
   "name": "python3"
  },
  "language_info": {
   "codemirror_mode": {
    "name": "ipython",
    "version": 2
   },
   "file_extension": ".py",
   "mimetype": "text/x-python",
   "name": "python",
   "nbconvert_exporter": "python",
   "pygments_lexer": "ipython2",
   "version": "2.7.6"
  }
 },
 "nbformat": 4,
 "nbformat_minor": 0
}