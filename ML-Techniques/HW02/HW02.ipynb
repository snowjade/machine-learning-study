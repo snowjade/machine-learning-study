{
 "cells": [
  {
   "cell_type": "code",
   "execution_count": 100,
   "metadata": {
    "collapsed": true
   },
   "outputs": [
    {
     "data": {
      "text/plain": "array([[ 6.   , -1.   , -1.   , ..., -1.   , -1.   , -1.   ],\n       [ 5.   , -1.   , -1.   , ..., -0.671, -0.828, -1.   ],\n       [ 4.   , -1.   , -1.   , ..., -1.   , -1.   , -1.   ],\n       ...,\n       [ 3.   , -1.   , -1.   , ..., -1.   , -1.   , -1.   ],\n       [ 0.   , -1.   , -1.   , ..., -1.   , -1.   , -1.   ],\n       [ 1.   , -1.   , -1.   , ..., -1.   , -1.   , -1.   ]])"
     },
     "execution_count": 100,
     "metadata": {},
     "output_type": "execute_result"
    }
   ],
   "source": [
    "import numpy as np\n",
    "import os\n",
    "import wget\n",
    "import torch\n",
    "import random\n",
    "\n",
    "torch.manual_seed(0)\n",
    "random.seed(0)\n",
    "url = \"http://amlbook.com/data/zip/zip.train\"\n",
    "if not os.path.exists(\"zip.train\"):\n",
    "    wget.download(url)\n",
    "train_data = np.loadtxt(\"zip.train\")\n",
    "train_data"
   ]
  },
  {
   "cell_type": "code",
   "execution_count": 101,
   "outputs": [],
   "source": [
    "from torch.utils.data import Dataset, DataLoader\n",
    "from torch import nn\n",
    "\n",
    "\n",
    "class Dataset11(Dataset):\n",
    "    def __init__(self):\n",
    "        self.data = train_data[-256:, :]\n",
    "\n",
    "    def __len__(self):\n",
    "        return len(self.data)\n",
    "\n",
    "    def __getitem__(self, idx):\n",
    "        return self.data[idx], self.data[idx]\n",
    "\n",
    "\n",
    "dataset11 = Dataset11()\n",
    "train_dataloader11 = DataLoader(dataset11, batch_size=len(dataset11))\n",
    "\n",
    "device = \"cuda\" if torch.cuda.is_available() else \"cpu\"\n",
    "\n",
    "\n",
    "class AutoEncoderNet(nn.Module):\n",
    "    def __init__(self, input, output):\n",
    "        super().__init__()\n",
    "        self.encoder = nn.Linear(input, output, bias=True)\n",
    "        self.encoder.bias = init_weight(output, 1, (output,))\n",
    "        self.encoder.weight = init_weight(output, 1, (output, input))\n",
    "        self.decoder = nn.Linear(output, input, bias=True)\n",
    "        self.decoder.bias = init_weight(output, 2, (input,))\n",
    "        self.decoder.weight = init_weight(output, 2, (input, output))\n",
    "\n",
    "    def forward(self, x):\n",
    "        return self.decoder(self.encoder(x))\n",
    "\n",
    "\n",
    "def init_weight(d, layout, size):\n",
    "    u = np.sqrt(6 / (1 + d ** (layout - 1) + d ** layout))\n",
    "    return torch.nn.Parameter(torch.distributions.Uniform(-u, u).sample(size))\n",
    "\n",
    "\n",
    "def train(dataloader, model, loss_fn, optimizer):\n",
    "    for batch, (X, y) in enumerate(dataloader):\n",
    "        X, y = X.to(device), y.to(device)\n",
    "        pred = model(X)\n",
    "        loss = loss_fn(pred, y)\n",
    "        optimizer.zero_grad()\n",
    "        loss.backward()\n",
    "        optimizer.step()\n",
    "\n",
    "\n",
    "def test(dataloader, model):\n",
    "    model.eval()\n",
    "    test_loss = 0\n",
    "    size = 0\n",
    "    with torch.no_grad():\n",
    "        for X, y in dataloader:\n",
    "            X, y = X.to(device), y.to(device)\n",
    "            pred = model(X)\n",
    "            test_loss += loss_fn(pred, y).item()\n",
    "            size += 1\n",
    "    test_loss /= size\n",
    "    return test_loss\n",
    "\n",
    "\n",
    "loss_fn = nn.MSELoss()\n"
   ],
   "metadata": {
    "collapsed": false,
    "pycharm": {
     "name": "#%%\n"
    }
   }
  },
  {
   "cell_type": "code",
   "execution_count": 102,
   "outputs": [
    {
     "data": {
      "text/plain": "HBox(children=(FloatProgress(value=0.0, max=300.0), HTML(value='')))",
      "application/vnd.jupyter.widget-view+json": {
       "version_major": 2,
       "version_minor": 0,
       "model_id": "c229dc59c2fd4888b0d266c7297040f4"
      }
     },
     "metadata": {},
     "output_type": "display_data"
    },
    {
     "name": "stdout",
     "output_type": "stream",
     "text": [
      "loss 123.16359311329029\n",
      "loss nan\n",
      "loss nan\n",
      "\n"
     ]
    },
    {
     "data": {
      "text/plain": "HBox(children=(FloatProgress(value=0.0, max=300.0), HTML(value='')))",
      "application/vnd.jupyter.widget-view+json": {
       "version_major": 2,
       "version_minor": 0,
       "model_id": "b023ba8ccf664fa898328fee51c66d98"
      }
     },
     "metadata": {},
     "output_type": "display_data"
    },
    {
     "name": "stdout",
     "output_type": "stream",
     "text": [
      "loss 17.102285905445818\n",
      "loss 1.274152653875447\n",
      "loss 0.6773543672918387\n",
      "\n"
     ]
    },
    {
     "data": {
      "text/plain": "HBox(children=(FloatProgress(value=0.0, max=300.0), HTML(value='')))",
      "application/vnd.jupyter.widget-view+json": {
       "version_major": 2,
       "version_minor": 0,
       "model_id": "84ffe2ed3b6d40479940909fdc9a7457"
      }
     },
     "metadata": {},
     "output_type": "display_data"
    },
    {
     "name": "stdout",
     "output_type": "stream",
     "text": [
      "loss 5.8425345940594955\n",
      "loss 0.7529328714555832\n",
      "loss 0.544631362251127\n",
      "\n"
     ]
    },
    {
     "data": {
      "text/plain": "HBox(children=(FloatProgress(value=0.0, max=300.0), HTML(value='')))",
      "application/vnd.jupyter.widget-view+json": {
       "version_major": 2,
       "version_minor": 0,
       "model_id": "265d1aae279749f88d190dcdc879a7ac"
      }
     },
     "metadata": {},
     "output_type": "display_data"
    },
    {
     "name": "stdout",
     "output_type": "stream",
     "text": [
      "loss 2.854938926683514\n",
      "loss 0.5327042639153196\n",
      "loss 0.38107707358430243\n",
      "\n"
     ]
    },
    {
     "data": {
      "text/plain": "HBox(children=(FloatProgress(value=0.0, max=300.0), HTML(value='')))",
      "application/vnd.jupyter.widget-view+json": {
       "version_major": 2,
       "version_minor": 0,
       "model_id": "ae7beb766e114005bfb708802918f34f"
      }
     },
     "metadata": {},
     "output_type": "display_data"
    },
    {
     "name": "stdout",
     "output_type": "stream",
     "text": [
      "loss 1.4051064881230875\n",
      "loss 0.32847969144344497\n",
      "loss 0.2463997775191862\n",
      "\n"
     ]
    },
    {
     "data": {
      "text/plain": "HBox(children=(FloatProgress(value=0.0, max=300.0), HTML(value='')))",
      "application/vnd.jupyter.widget-view+json": {
       "version_major": 2,
       "version_minor": 0,
       "model_id": "3082628e8b6d4aba88d6cdbcb308c2d2"
      }
     },
     "metadata": {},
     "output_type": "display_data"
    },
    {
     "name": "stdout",
     "output_type": "stream",
     "text": [
      "loss 0.9611609125774777\n",
      "loss 0.2256311617579536\n",
      "loss 0.1667637014748846\n",
      "\n",
      "[1, 2, 3, 4, 5, 6] [nan, 0.5940757762741157, 0.45529723065501154, 0.32037121781200656, 0.20994051997830185, 0.13984576655315456]\n"
     ]
    },
    {
     "data": {
      "text/plain": "<Figure size 432x288 with 1 Axes>",
      "image/png": "[encoded data removed]"
     },
     "metadata": {
      "needs_background": "light"
     },
     "output_type": "display_data"
    }
   ],
   "source": [
    "from tqdm.notebook import tqdm\n",
    "import matplotlib.pyplot as plt\n",
    "\n",
    "\n",
    "def experiment(d):\n",
    "    model = AutoEncoderNet(train_data.shape[1], d).double().to(device)\n",
    "    optimizer = torch.optim.SGD(model.parameters(), lr=1e-1)\n",
    "    epochs = 300\n",
    "    for t in tqdm(range(epochs)):\n",
    "        train(train_dataloader11, model, loss_fn, optimizer)\n",
    "        if t % 100 == 0:\n",
    "            print(\"loss\", test(train_dataloader11, model))\n",
    "    return test(train_dataloader11, model)\n",
    "\n",
    "\n",
    "x_show = []\n",
    "e_ins = []\n",
    "for num in range(1, 7):\n",
    "    d = 2 ** num\n",
    "    e_in = experiment(d)\n",
    "    x_show.append(num)\n",
    "    e_ins.append(e_in)"
   ],
   "metadata": {
    "collapsed": false,
    "pycharm": {
     "name": "#%% problem 11\n"
    }
   }
  },
  {
   "cell_type": "code",
   "execution_count": 104,
   "outputs": [
    {
     "data": {
      "text/plain": "<Figure size 432x288 with 1 Axes>",
      "image/png": "[encoded data removed]"
     },
     "metadata": {
      "needs_background": "light"
     },
     "output_type": "display_data"
    }
   ],
   "source": [
    "plt.plot(x_show, e_ins, marker='o')\n",
    "plt.show()\n"
   ],
   "metadata": {
    "collapsed": false,
    "pycharm": {
     "name": "#%%\n"
    }
   }
  },
  {
   "cell_type": "code",
   "execution_count": 102,
   "outputs": [],
   "source": [],
   "metadata": {
    "collapsed": false,
    "pycharm": {
     "name": "#%%\n"
    }
   }
  }
 ],
 "metadata": {
  "kernelspec": {
   "display_name": "Python 3",
   "language": "python",
   "name": "python3"
  },
  "language_info": {
   "codemirror_mode": {
    "name": "ipython",
    "version": 2
   },
   "file_extension": ".py",
   "mimetype": "text/x-python",
   "name": "python",
   "nbconvert_exporter": "python",
   "pygments_lexer": "ipython2",
   "version": "2.7.6"
  }
 },
 "nbformat": 4,
 "nbformat_minor": 0
}