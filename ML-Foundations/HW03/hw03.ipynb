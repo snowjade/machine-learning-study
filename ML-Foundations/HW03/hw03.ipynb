{
 "cells": [
  {
   "cell_type": "code",
   "execution_count": null,
   "metadata": {
    "collapsed": true,
    "pycharm": {
     "name": "#%%  6. 7.\n"
    }
   },
   "outputs": [],
   "source": [
    "import numpy as np\n",
    "import scipy\n",
    "import torch\n",
    "\n",
    "u = torch.scalar_tensor(0., requires_grad=True)\n",
    "v = torch.scalar_tensor(0., requires_grad=True)\n",
    "sigma = 0.01\n",
    "\n",
    "\n",
    "def error(u, v):\n",
    "    return torch.exp(u) + torch.exp(2 * v) + torch.exp(u * v) + u ** 2 - 2 * u * v + 2 * v ** 2 - 3 * u - 2 * v\n",
    "\n",
    "\n",
    "for x in range(5):\n",
    "    E = error(u, v)\n",
    "    E.backward()\n",
    "    print(\"grad u v:\", u.grad, v.grad)\n",
    "    u.data = u.data - sigma * u.grad\n",
    "    v.data = v.data - sigma * v.grad\n",
    "    u.grad.zero_()\n",
    "    v.grad.zero_()\n",
    "    print(\"data u v:\", u, v)\n",
    "print(error(u, v).item())"
   ]
  },
  {
   "cell_type": "code",
   "execution_count": null,
   "outputs": [],
   "source": [
    "u = torch.scalar_tensor(0., requires_grad=True)\n",
    "v = torch.scalar_tensor(0., requires_grad=True)\n",
    "Y = error(u, v)\n",
    "\n",
    "# Y.backward(retain_graph=True)\n",
    "Y.backward(retain_graph=True)\n",
    "print(u.grad, v.grad)\n"
   ],
   "metadata": {
    "collapsed": false,
    "pycharm": {
     "name": "#%%\n"
    }
   }
  },
  {
   "cell_type": "code",
   "execution_count": null,
   "outputs": [],
   "source": [
    "import numpy as np\n",
    "\n",
    "\n",
    "def grad_u(u, v):\n",
    "    return np.exp(u) + np.exp(u * v) * v + 2 * u - 2 * v - 3\n",
    "\n",
    "\n",
    "def grad_v(u, v):\n",
    "    return np.exp(2 * v) * 2 + np.exp(u * v) * u - 2 * u + 4 * v - 2\n",
    "\n",
    "\n",
    "def cal(u, v):\n",
    "    return np.exp(u) + np.exp(2 * v) + np.exp(u * v) + u ** 2 - 2 * u * v + 2 * v ** 2 - 3 * u - 2 * v\n",
    "\n",
    "\n",
    "u = 0\n",
    "v = 0\n",
    "sigma = 0.01\n",
    "for _ in range(5):\n",
    "    u -= sigma * grad_u(u, v)\n",
    "    v -= sigma * grad_v(u, v)\n",
    "    print(cal(u, v))"
   ],
   "metadata": {
    "collapsed": false,
    "pycharm": {
     "name": "#%%\n"
    }
   }
  },
  {
   "cell_type": "code",
   "execution_count": null,
   "outputs": [],
   "source": [
    "import numpy as np\n",
    "\n",
    "f = lambda X: np.sign(X[:, 0] ** 2 + X[:, 1] ** 2 - 0.6)\n",
    "\n",
    "\n",
    "def experience():\n",
    "    size = 1000\n",
    "    r = np.random.rand(size, 2) * 2 + -1\n",
    "    y = f(r)\n",
    "    y[: int(size * 0.1)] *= -1\n",
    "    data = np.hstack((np.ones([size, 1]), r, y.reshape(-1, 1)))\n",
    "    np.random.shuffle(data)\n",
    "    X = data[:, :-1]\n",
    "    y = data[:, -1]\n",
    "    y = y.reshape((-1, 1))\n",
    "    w = np.dot(np.linalg.pinv(X), y).reshape((-1, 1))\n",
    "    y_hat = np.sign(np.dot(X, w))\n",
    "    e_in = np.sum(y_hat != y) / y.size\n",
    "    return e_in\n",
    "\n",
    "\n",
    "e_sum = 0\n",
    "for _ in range(1000):\n",
    "    e_sum += experience()\n",
    "e_ava = e_sum / 1000\n",
    "print(e_ava)\n"
   ],
   "metadata": {
    "collapsed": false,
    "pycharm": {
     "name": "#%% 13\n"
    }
   }
  },
  {
   "cell_type": "code",
   "execution_count": null,
   "outputs": [],
   "source": [],
   "metadata": {
    "collapsed": false,
    "pycharm": {
     "name": "#%%\n"
    }
   }
  },
  {
   "cell_type": "code",
   "execution_count": null,
   "outputs": [],
   "source": [
    "import numpy as np\n",
    "\n",
    "f = lambda X: np.sign(X[:, 0] ** 2 + X[:, 1] ** 2 - 0.6)\n",
    "\n",
    "\n",
    "def experience():\n",
    "    size = 1000\n",
    "    r = np.random.rand(size, 2) * 2 + -1\n",
    "    y = f(r)\n",
    "    y[: int(size * 0.1)] *= -1\n",
    "    data = np.hstack((np.ones([size, 1]), r, y.reshape(-1, 1)))\n",
    "    np.random.shuffle(data)\n",
    "    X = data[:, :-1]\n",
    "    x1 = X[:, 1].reshape(-1, 1)\n",
    "    x2 = X[:, 2].reshape(-1, 1)\n",
    "    X = np.hstack((X, x1 * x2, x1 ** 2, x2 ** 2))\n",
    "    y = data[:, -1]\n",
    "    y = y.reshape((-1, 1))\n",
    "    w = np.dot(np.linalg.pinv(X), y).reshape((-1, 1))\n",
    "    print(w)\n",
    "    y_hat = np.sign(np.dot(X, w))\n",
    "    e_in = np.sum(y_hat != y) / y.size\n",
    "    return e_in\n",
    "\n",
    "\n",
    "experience()"
   ],
   "metadata": {
    "collapsed": false,
    "pycharm": {
     "name": "#%% 13\n"
    }
   }
  },
  {
   "cell_type": "code",
   "execution_count": null,
   "outputs": [],
   "source": [
    "import numpy as np\n",
    "\n",
    "f = lambda X: np.sign(X[:, 0] ** 2 + X[:, 1] ** 2 - 0.6)\n",
    "\n",
    "\n",
    "def generate():\n",
    "    size = 1000\n",
    "    r = np.random.rand(size, 2) * 2 + -1\n",
    "    y = f(r)\n",
    "    y[: int(size * 0.1)] *= -1\n",
    "    data = np.hstack((np.ones([size, 1]), r, y.reshape(-1, 1)))\n",
    "    np.random.shuffle(data)\n",
    "    X = data[:, :-1]\n",
    "    x1 = X[:, 1].reshape(-1, 1)\n",
    "    x2 = X[:, 2].reshape(-1, 1)\n",
    "    X = np.hstack((X, x1 * x2, x1 ** 2, x2 ** 2))\n",
    "    y = data[:, -1]\n",
    "    y = y.reshape((-1, 1))\n",
    "    return X, y\n",
    "\n",
    "\n",
    "def experience():\n",
    "    X, y = generate()\n",
    "    w = np.dot(np.linalg.pinv(X), y).reshape((-1, 1))\n",
    "    y_hat = np.sign(np.dot(X, w))\n",
    "    e_in = np.sum(y_hat != y) / y.size\n",
    "    X_out, y_out = generate()\n",
    "    y_out_hat = np.sign(np.dot(X_out, w))\n",
    "    e_out = np.sum(y_out_hat != y_out) / y_out.size\n",
    "    return e_out\n",
    "\n",
    "\n",
    "e_out_sum = 0\n",
    "for _ in range(1000):\n",
    "    e_out_sum += experience()\n",
    "print(e_out_sum / 1000)"
   ],
   "metadata": {
    "collapsed": false,
    "pycharm": {
     "name": "#%% 14\n"
    }
   }
  },
  {
   "cell_type": "code",
   "execution_count": 123,
   "outputs": [
    {
     "name": "stderr",
     "output_type": "stream",
     "text": [
      "\n",
      "\n",
      "  0%|          | 0/2000 [00:00<?, ?it/s]\u001B[A\u001B[A\n",
      "\n",
      "100%|██████████| 2000/2000 [00:00<00:00, 10425.51it/s]\u001B[A\u001B[A"
     ]
    },
    {
     "name": "stdout",
     "output_type": "stream",
     "text": [
      "[ 0.51055671 -0.04094096  0.3639267  ...  0.80367157  0.0821796\n",
      "  0.27358699]\n",
      "[0.62493697 0.48976619 0.58999064 ... 0.69075932 0.52053334 0.56797329]\n",
      "0.22\n"
     ]
    },
    {
     "name": "stderr",
     "output_type": "stream",
     "text": [
      "\n"
     ]
    }
   ],
   "source": [
    "import os\n",
    "import wget\n",
    "from tqdm import tqdm\n",
    "from scipy.special import expit\n",
    "\n",
    "if not os.path.exists('hw3_train.dat'):\n",
    "    train_url = \"https://www.csie.ntu.edu.tw/~htlin/mooc/datasets/mlfound_algo/hw3_train.dat\"\n",
    "    test_url = \"https://www.csie.ntu.edu.tw/~htlin/mooc/datasets/mlfound_algo/hw3_test.dat\"\n",
    "    wget.download(train_url)\n",
    "    wget.download(test_url)\n",
    "train_data = np.loadtxt('hw3_train.dat')\n",
    "test_data = np.loadtxt('hw3_test.dat')\n",
    "\n",
    "X, y = train_data[:, :-1], train_data[:, -1]\n",
    "X_test, y_test = test_data[:, :-1], test_data[:, -1]\n",
    "X = np.hstack((np.ones([X.shape[0],1]),X))\n",
    "X_test = np.hstack((np.ones([X_test.shape[0],1]),X_test))\n",
    "w = np.zeros([X.shape[1],1])\n",
    "rate = 0.01\n",
    "times = 2000\n",
    "for _ in tqdm(range(times)):\n",
    "    grads = np.dot(1/(np.exp(y.reshape(1,-1) * np.dot(w.T,X.T).reshape(1,-1)) + 1 ), - y.reshape((-1,1)) * X).reshape(-1,1)/y.size\n",
    "    # grads = np.dot(expit(-y.reshape(1,-1) * np.dot(w.T,X.T).reshape(1,-1)) , - y.reshape((-1,1)) * X).reshape(-1,1)/y.size\n",
    "    w -= rate * grads\n",
    "y_predict = np.dot(X_test, w).squeeze()\n",
    "print(y_predict)\n",
    "print(expit(y_predict))\n",
    "\n",
    "y_predict = np.where(expit(y_predict) > 0.5, 1.0, -1.0)\n",
    "\n",
    "e_out = np.sum(y_predict != y_test)/y_test.size\n",
    "print(e_out)\n",
    "\n"
   ],
   "metadata": {
    "collapsed": false,
    "pycharm": {
     "name": "#%% 18 19\n"
    }
   }
  },
  {
   "cell_type": "code",
   "execution_count": null,
   "outputs": [],
   "source": [
    "y = np.array([1,2,3,4]).reshape(1,-1)\n",
    "x = np.array([1,2,3,4]).reshape(1,-1)\n",
    "c = -y * x\n",
    "print(c)"
   ],
   "metadata": {
    "collapsed": false,
    "pycharm": {
     "name": "#%%\n"
    }
   }
  },
  {
   "cell_type": "code",
   "execution_count": 127,
   "outputs": [
    {
     "name": "stdout",
     "output_type": "stream",
     "text": [
      "0.800056217469395\n"
     ]
    },
    {
     "data": {
      "text/plain": "array([[1., 1., 1.],\n       [1., 4., 1.],\n       [1., 1., 1.]])"
     },
     "execution_count": 127,
     "metadata": {},
     "output_type": "execute_result"
    }
   ],
   "source": [
    "print(np.random.rand())\n",
    "\n"
   ],
   "metadata": {
    "collapsed": false,
    "pycharm": {
     "name": "#%%\n"
    }
   }
  },
  {
   "cell_type": "code",
   "execution_count": 170,
   "outputs": [
    {
     "name": "stderr",
     "output_type": "stream",
     "text": [
      "\n",
      "\n",
      "  0%|          | 0/2000 [00:00<?, ?it/s]\u001B[A\u001B[A\n",
      "\n",
      "100%|██████████| 2000/2000 [00:00<00:00, 10350.40it/s]\u001B[A\u001B[A"
     ]
    },
    {
     "name": "stdout",
     "output_type": "stream",
     "text": [
      "[ 0.51055671 -0.04094096  0.3639267  ...  0.80367157  0.0821796\n",
      "  0.27358699]\n",
      "[0.62493697 0.48976619 0.58999064 ... 0.69075932 0.52053334 0.56797329]\n",
      "0.22\n"
     ]
    },
    {
     "name": "stderr",
     "output_type": "stream",
     "text": [
      "\n"
     ]
    }
   ],
   "source": [
    "import os\n",
    "import wget\n",
    "from tqdm import tqdm\n",
    "from scipy.special import expit\n",
    "\n",
    "if not os.path.exists('hw3_train.dat'):\n",
    "    train_url = \"https://www.csie.ntu.edu.tw/~htlin/mooc/datasets/mlfound_algo/hw3_train.dat\"\n",
    "    test_url = \"https://www.csie.ntu.edu.tw/~htlin/mooc/datasets/mlfound_algo/hw3_test.dat\"\n",
    "    wget.download(train_url)\n",
    "    wget.download(test_url)\n",
    "train_data = np.loadtxt('hw3_train.dat')\n",
    "test_data = np.loadtxt('hw3_test.dat')\n",
    "\n",
    "X, y = train_data[:, :-1], train_data[:, -1]\n",
    "X_test, y_test = test_data[:, :-1], test_data[:, -1]\n",
    "X = np.hstack((np.ones([X.shape[0],1]),X))\n",
    "X_test = np.hstack((np.ones([X_test.shape[0],1]),X_test))\n",
    "w = np.zeros([X.shape[1],1])\n",
    "rate = 0.01\n",
    "times = 2000\n",
    "for n in tqdm(range(times)):\n",
    "    # grads = np.dot(1/(np.exp(y.reshape(1,-1) * np.dot(w.T,X.T).reshape(1,-1)) + 1 ), - y.reshape((-1,1)) * X).reshape(-1,1)/y.size\n",
    "    grads = np.dot(expit(-y.reshape(1,-1) * np.dot(w.T,X.T).reshape(1,-1)) , - y.reshape((-1,1)) * X).reshape(-1,1)/y.size\n",
    "    # grads = expit(-y * np.dot(w.T,X.reshape(-1,1))) * (-y * X.reshape(-1,1))\n",
    "    w -= rate * grads\n",
    "y_predict = np.dot(X_test, w).squeeze()\n",
    "print(y_predict)\n",
    "print(expit(y_predict))\n",
    "\n",
    "y_predict = np.where(expit(y_predict) > 0.5, 1.0, -1.0)\n",
    "\n",
    "e_out = np.sum(y_predict != y_test)/y_test.size\n",
    "print(e_out)"
   ],
   "metadata": {
    "collapsed": false,
    "pycharm": {
     "name": "#%% 18 19\n"
    }
   }
  },
  {
   "cell_type": "code",
   "execution_count": null,
   "outputs": [],
   "source": [],
   "metadata": {
    "collapsed": false,
    "pycharm": {
     "name": "#%%\n"
    }
   }
  },
  {
   "cell_type": "code",
   "execution_count": null,
   "outputs": [],
   "source": [
    "import os\n",
    "import wget\n",
    "from tqdm import tqdm\n",
    "from scipy.special import expit\n",
    "\n",
    "if not os.path.exists('hw3_train.dat'):\n",
    "    train_url = \"https://www.csie.ntu.edu.tw/~htlin/mooc/datasets/mlfound_algo/hw3_train.dat\"\n",
    "    test_url = \"https://www.csie.ntu.edu.tw/~htlin/mooc/datasets/mlfound_algo/hw3_test.dat\"\n",
    "    wget.download(train_url)\n",
    "    wget.download(test_url)\n",
    "train_data = np.loadtxt('hw3_train.dat')\n",
    "test_data = np.loadtxt('hw3_test.dat')\n",
    "\n",
    "X, y = train_data[:, :-1], train_data[:, -1]\n",
    "X_test, y_test = test_data[:, :-1], test_data[:, -1]\n",
    "X = np.hstack((np.ones([X.shape[0],1]),X))\n",
    "X_test = np.hstack((np.ones([X_test.shape[0],1]),X_test))\n",
    "w = np.zeros([X.shape[1],1])\n",
    "rate = 0.001\n",
    "times = 2000\n",
    "X_original = X\n",
    "y_original = y\n",
    "for n in tqdm(range(times)):\n",
    "    n = n % y_original.size\n",
    "    X = X_original[n,:]\n",
    "    y = y_original[n]\n",
    "    # grads = np.dot(1/(np.exp(y.reshape(1,-1) * np.dot(w.T,X.T).reshape(1,-1)) + 1 ), - y.reshape((-1,1)) * X).reshape(-1,1)/y.size\n",
    "    grads = np.dot(expit(-y.reshape(1,-1) * np.dot(w.T,X.T).reshape(1,-1)) , - y.reshape((-1,1)) * X).reshape(-1,1)/y.size\n",
    "    # grads = expit(-y * np.dot(w.T,X.reshape(-1,1))) * (-y * X.reshape(-1,1))\n",
    "    w -= rate * grads\n",
    "y_predict = np.dot(X_test, w).squeeze()\n",
    "print(y_predict)\n",
    "print(expit(y_predict))\n",
    "\n",
    "y_predict = np.where(expit(y_predict) > 0.5, 1.0, -1.0)\n",
    "\n",
    "e_out = np.sum(y_predict != y_test)/y_test.size\n",
    "print(e_out)\n"
   ],
   "metadata": {
    "collapsed": false,
    "pycharm": {
     "name": "#%% 18 19\n"
    }
   }
  }
 ],
 "metadata": {
  "kernelspec": {
   "display_name": "Python 3",
   "language": "python",
   "name": "python3"
  },
  "language_info": {
   "codemirror_mode": {
    "name": "ipython",
    "version": 2
   },
   "file_extension": ".py",
   "mimetype": "text/x-python",
   "name": "python",
   "nbconvert_exporter": "python",
   "pygments_lexer": "ipython2",
   "version": "2.7.6"
  }
 },
 "nbformat": 4,
 "nbformat_minor": 0
}