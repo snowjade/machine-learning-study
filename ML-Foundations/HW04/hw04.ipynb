{
 "cells": [
  {
   "cell_type": "code",
   "execution_count": 72,
   "metadata": {
    "collapsed": true
   },
   "outputs": [],
   "source": [
    "import os\n",
    "import wget\n",
    "import numpy as np\n",
    "from tqdm import tqdm\n",
    "from scipy.special import expit\n",
    "\n",
    "if not os.path.exists('hw4_train.dat'):\n",
    "    train_url = \"https://www.csie.ntu.edu.tw/~htlin/mooc/datasets/mlfound_algo/hw4_train.dat\"\n",
    "    test_url = \"https://www.csie.ntu.edu.tw/~htlin/mooc/datasets/mlfound_algo/hw4_test.dat\"\n",
    "    wget.download(train_url)\n",
    "    wget.download(test_url)\n",
    "train_data = np.loadtxt('hw4_train.dat')\n",
    "test_data = np.loadtxt('hw4_test.dat')\n",
    "x = train_data[:, :-1]\n",
    "y = train_data[:, -1].reshape(-1, 1)\n",
    "x = np.insert(x, 0, values=1, axis=1)\n",
    "x_test = test_data[:, :-1]\n",
    "y_test = test_data[:, -1].reshape(-1, 1)\n",
    "x_test = np.insert(x_test, 0, values=1, axis=1)"
   ]
  },
  {
   "cell_type": "code",
   "execution_count": 74,
   "outputs": [
    {
     "name": "stdout",
     "output_type": "stream",
     "text": [
      "(0.035, 0.02)\n",
      "(0.015, 0.02)\n"
     ]
    }
   ],
   "source": [
    "def experiment(index=10):\n",
    "    lam = 10 ** index\n",
    "    x_ = np.sqrt(lam) * np.identity(x.shape[1])\n",
    "    y_ = np.zeros((x_.shape[0], 1))\n",
    "    w = np.linalg.inv(x.T.dot(x) + x_.T.dot(x_)).dot(x.T.dot(y) + x_.T.dot(y_))\n",
    "    y_predict = np.sign(x.dot(w))\n",
    "    e_in = np.sum(y_predict != y) / y.size\n",
    "    y_test_predict = np.sign(x_test.dot(w))\n",
    "    e_out = np.sum(y_test_predict != y_test) / y_test.size\n",
    "    return e_in, e_out\n",
    "\n",
    "\n",
    "# 18\n",
    "print(experiment(0))\n",
    "#20\n",
    "print(experiment(-8))\n"
   ],
   "metadata": {
    "collapsed": false,
    "pycharm": {
     "name": "#%% 13\n"
    }
   }
  },
  {
   "cell_type": "code",
   "execution_count": null,
   "outputs": [],
   "source": [
    "for index in range(2, -11, -1):\n",
    "    lam = 10 ** index\n",
    "    print(\"index\", index, end=\" \")\n",
    "    print(\"e_in e_out\", experiment(lam))\n"
   ],
   "metadata": {
    "collapsed": false,
    "pycharm": {
     "name": "#%% 14 15\n"
    }
   }
  },
  {
   "cell_type": "code",
   "execution_count": 69,
   "outputs": [
    {
     "name": "stdout",
     "output_type": "stream",
     "text": [
      "index 2 e_in e_val e_out (0.3416666666666667, 0.4125, 0.414)\n",
      "index 1 e_in e_val e_out (0.075, 0.125, 0.08)\n",
      "index 0 e_in e_val e_out (0.03333333333333333, 0.0375, 0.028)\n",
      "index -1 e_in e_val e_out (0.03333333333333333, 0.0375, 0.022)\n",
      "index -2 e_in e_val e_out (0.03333333333333333, 0.0375, 0.021)\n",
      "index -3 e_in e_val e_out (0.03333333333333333, 0.0375, 0.021)\n",
      "index -4 e_in e_val e_out (0.03333333333333333, 0.0375, 0.021)\n",
      "index -5 e_in e_val e_out (0.03333333333333333, 0.0375, 0.021)\n",
      "index -6 e_in e_val e_out (0.03333333333333333, 0.0375, 0.021)\n",
      "index -7 e_in e_val e_out (0.03333333333333333, 0.0375, 0.021)\n",
      "index -8 e_in e_val e_out (0.0, 0.05, 0.025)\n",
      "index -9 e_in e_val e_out (0.0, 0.1, 0.038)\n",
      "index -10 e_in e_val e_out (0.008333333333333333, 0.125, 0.04)\n"
     ]
    }
   ],
   "source": [
    "x = train_data[:120, :-1]\n",
    "y = train_data[:120, -1].reshape(-1, 1)\n",
    "x = np.insert(x, 0, values=1, axis=1)\n",
    "x_val = train_data[120:, :-1]\n",
    "y_val = train_data[120:, -1].reshape(-1, 1)\n",
    "x_val = np.insert(x_val, 0, values=1, axis=1)\n",
    "\n",
    "\n",
    "def experiment16(lam=10):\n",
    "    x_ = np.sqrt(lam) * np.identity(x.shape[1])\n",
    "    y_ = np.zeros((x_.shape[0], 1))\n",
    "    w = np.linalg.inv(x.T.dot(x) + x_.T.dot(x_)).dot(x.T.dot(y) + x_.T.dot(y_))\n",
    "    y_predict = np.sign(x.dot(w))\n",
    "    e_in = np.sum(y_predict != y) / y.size\n",
    "    y_val_predict = np.sign(x_val.dot(w))\n",
    "    e_val = np.sum(y_val_predict != y_val) / y_val.size\n",
    "    y_test_predict = np.sign(x_test.dot(w))\n",
    "    e_out = np.sum(y_test_predict != y_test) / y_test.size\n",
    "    return e_in, e_val, e_out\n",
    "\n",
    "\n",
    "for index in range(2, -11, -1):\n",
    "    lam = 10 ** index\n",
    "    print(\"index\", index, end=\" \")\n",
    "    print(\"e_in e_val e_out\", experiment16(lam))"
   ],
   "metadata": {
    "collapsed": false,
    "pycharm": {
     "name": "#%% 16\n"
    }
   }
  },
  {
   "cell_type": "code",
   "execution_count": 71,
   "outputs": [
    {
     "name": "stdout",
     "output_type": "stream",
     "text": [
      "index 2 e_cv 0.29000000000000004\n",
      "index 1 e_cv 0.06\n",
      "index 0 e_cv 0.034999999999999996\n",
      "index -1 e_cv 0.034999999999999996\n",
      "index -2 e_cv 0.034999999999999996\n",
      "index -3 e_cv 0.034999999999999996\n",
      "index -4 e_cv 0.034999999999999996\n",
      "index -5 e_cv 0.034999999999999996\n",
      "index -6 e_cv 0.034999999999999996\n",
      "index -7 e_cv 0.034999999999999996\n",
      "index -8 e_cv 0.03\n",
      "index -9 e_cv 0.05\n",
      "index -10 e_cv 0.05\n"
     ]
    }
   ],
   "source": [
    "def experiment(lam, x_train, y_train, x_val, y_val):\n",
    "    x_ = np.sqrt(lam) * np.identity(x_train.shape[1])\n",
    "    y_ = np.zeros((x_.shape[0], 1))\n",
    "    w = np.linalg.inv(x_train.T.dot(x_train) + x_.T.dot(x_)).dot(x_train.T.dot(y_train) + x_.T.dot(y_))\n",
    "    y_predict = np.sign(x_train.dot(w))\n",
    "    e_in = np.sum(y_predict != y_train) / y_train.size\n",
    "    y_val_predict = np.sign(x_val.dot(w))\n",
    "    e_val = np.sum(y_val_predict != y_val) / y_val.size\n",
    "    return e_in, e_val\n",
    "\n",
    "\n",
    "def cv_experiment(lam):\n",
    "    x = train_data[:, :-1]\n",
    "    y = train_data[:, -1].reshape(-1, 1)\n",
    "    x = np.insert(x, 0, values=1, axis=1)\n",
    "    part = 40\n",
    "    n = int(y.size / part)\n",
    "    e_sum = 0\n",
    "    for i in range(n):\n",
    "        left = part * i\n",
    "        right = part * (i + 1)\n",
    "        val_index = np.s_[left:right]\n",
    "        x_train = np.delete(x, val_index, axis=0)\n",
    "        y_train = np.delete(y, val_index, axis=0)\n",
    "        x_val = x[val_index]\n",
    "        y_val = y[val_index]\n",
    "        e_in, e_val = experiment(lam, x_train, y_train, x_val, y_val)\n",
    "        e_sum += e_val\n",
    "    e_cv = e_sum / n\n",
    "    return e_cv\n",
    "\n",
    "\n",
    "for index in range(2, -11, -1):\n",
    "    lam = 10 ** index\n",
    "    print(\"index\", index, end=\" \")\n",
    "    print(\"e_cv\", cv_experiment(lam))\n",
    "\n",
    "\n"
   ],
   "metadata": {
    "collapsed": false,
    "pycharm": {
     "name": "#%% 19\n"
    }
   }
  },
  {
   "cell_type": "code",
   "execution_count": null,
   "outputs": [],
   "source": [
    "a = np.ones((3, 10))\n",
    "b = np.delete(a, np.s_[1:8], axis=1)\n",
    "print(b.shape)"
   ],
   "metadata": {
    "collapsed": false,
    "pycharm": {
     "name": "#%%\n"
    }
   }
  }
 ],
 "metadata": {
  "kernelspec": {
   "display_name": "Python 3",
   "language": "python",
   "name": "python3"
  },
  "language_info": {
   "codemirror_mode": {
    "name": "ipython",
    "version": 2
   },
   "file_extension": ".py",
   "mimetype": "text/x-python",
   "name": "python",
   "nbconvert_exporter": "python",
   "pygments_lexer": "ipython2",
   "version": "2.7.6"
  }
 },
 "nbformat": 4,
 "nbformat_minor": 0
}